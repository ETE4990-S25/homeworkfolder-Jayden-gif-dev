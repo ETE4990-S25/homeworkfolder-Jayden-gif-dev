{
 "cells": [
  {
   "cell_type": "markdown",
   "id": "fda7d845-cf1b-4a1c-a057-351aa432cd2f",
   "metadata": {},
   "source": [
    "## Huynh Gia Phong Tat\n",
    "## ETE 4990L"
   ]
  },
  {
   "cell_type": "markdown",
   "id": "363f0e5b-ac8c-4acb-8edb-9c4deeff3dbc",
   "metadata": {},
   "source": [
    "# Lists\n",
    "\n",
    "## Background\n",
    "Lists are one of the most commonly used data structures in Python and are very similar to arrays from other programming languages. A list can store many items or values inside of one overall object or structure, unlike a variable which can only store one item or value inside one object. \n",
    "\n",
    "The items in a list can be accessed by using what is called an “index” value, which simply refers to the position of a certain item inside of a list, as lists are ordered from item 0 to the number of elements - 1. Therefore a list with 5 elements will have index positions 0 through 4. \n",
    "\n",
    "Any data can be stored inside a list, numbers, strings, or objects, but it is common practice to only have one data type per list. Therefore if my list has integers, it would ONLY have integers, not strings, doubles, objects, etc."
   ]
  },
  {
   "cell_type": "markdown",
   "id": "c0e77989-3dbb-4106-b49b-f8dfa5bfeab5",
   "metadata": {},
   "source": [
    "## Mini-project - Guessing game\n",
    "Create a number guessing game and set a secret number at the beginning of the program. \n",
    "The program will ask the player to enter a number to guess what the number is, then it’ll inform the player if they got it right or wrong."
   ]
  },
  {
   "cell_type": "code",
   "execution_count": null,
   "id": "4ff13200-3b6b-4173-8416-fa65d2234d9e",
   "metadata": {},
   "outputs": [],
   "source": [
    "# put your code here\n",
    "secretNumber = 2\n",
    "guess = int(input(\"make a guess please!\"))\n",
    "if guess == secretNumber:\n",
    "    print(\"You are right\")\n",
    "else:\n",
    "    print(\"Great job! Your guess is like you! Useless...\")"
   ]
  },
  {
   "cell_type": "markdown",
   "id": "4584cbfd-289d-4f0d-a899-06d90d69e3fe",
   "metadata": {},
   "source": [
    "## Mini-Project - Dice Roll\n",
    "\n",
    "Part 1:\n",
    "Create a random number generator using dice. \n",
    "You must create at least 5 dice\n",
    "The game must use conditionals (If, Else, Elif)\n",
    "The game must use nested conditionals (if 0=0:if 1=1: do something)\n",
    "\n",
    "What lists should we create for the project?\n",
    "How many loops do we need?\n",
    "\n",
    "Part 2:\n",
    "Create a list to store your gameplay. \n",
    "Create at least 2 lists to store your game statistics.\n",
    "\n",
    "Part 3:\n",
    "At the end of the output your gameplay statistics\n",
    "\n",
    "Part 4:\n",
    "Exchange code with your partner and begin adding comments on improvements (save your original version)\n",
    "\n",
    "Part 5:\n",
    "Return the code and create a comparison \n",
    "\n",
    "Part 6:\n",
    "Upload the code and comparison it to Canvas. "
   ]
  },
  {
   "cell_type": "code",
   "execution_count": 1,
   "id": "c1a378f3-4f8f-44c6-9181-8c2030ecc6ac",
   "metadata": {},
   "outputs": [
    {
     "name": "stdout",
     "output_type": "stream",
     "text": [
      "How many times do you want to play the game?  3\n"
     ]
    },
    {
     "name": "stdout",
     "output_type": "stream",
     "text": [
      "You get a total of two chances. We are going to compare your roll with a list of 5 dice rolls. If you roll higher than 3 of them, you win.\n",
      "This is your initial roll: 1\n"
     ]
    },
    {
     "name": "stdout",
     "output_type": "stream",
     "text": [
      "Do you want to reroll? 1: Yes 2: No  2\n"
     ]
    },
    {
     "name": "stdout",
     "output_type": "stream",
     "text": [
      "Computer Dice rolls: [3, 5, 3, 5, 1]\n",
      "Sorry, you lose.\n",
      "You get a total of two chances. We are going to compare your roll with a list of 5 dice rolls. If you roll higher than 3 of them, you win.\n",
      "This is your initial roll: 6\n"
     ]
    },
    {
     "name": "stdout",
     "output_type": "stream",
     "text": [
      "Do you want to reroll? 1: Yes 2: No  2\n"
     ]
    },
    {
     "name": "stdout",
     "output_type": "stream",
     "text": [
      "Computer Dice rolls: [5, 2, 3, 3, 4]\n",
      "Congratulations! You win!\n",
      "You get a total of two chances. We are going to compare your roll with a list of 5 dice rolls. If you roll higher than 3 of them, you win.\n",
      "This is your initial roll: 1\n"
     ]
    },
    {
     "name": "stdout",
     "output_type": "stream",
     "text": [
      "Do you want to reroll? 1: Yes 2: No  2\n"
     ]
    },
    {
     "name": "stdout",
     "output_type": "stream",
     "text": [
      "Computer Dice rolls: [3, 2, 1, 6, 5]\n",
      "Sorry, you lose.\n",
      "Gameplay history: [(1, 'Loss'), (6, 'Win'), (1, 'Loss')]\n",
      "Wins: 1\n",
      "Losses: 2\n",
      "Ties: 0\n"
     ]
    }
   ],
   "source": [
    "#Author: Huynh Gia Phong Tat\n",
    "#ETE 4990L\n",
    "\n",
    "import random\n",
    "\n",
    "# List to store gameplay\n",
    "gameplay = []\n",
    "\n",
    "# Counters to store game statistics\n",
    "winCount = 0\n",
    "lossCount = 0\n",
    "tieCount = 0\n",
    "\n",
    "# Function to roll a dice\n",
    "def rollDice():\n",
    "    return random.randint(1, 6)\n",
    "\n",
    "# Creating a function to compare the roll\n",
    "def compareRoll(userRoll):\n",
    "    diceRolls = [rollDice() for _ in range(5)] # Creating a list of computer's roll for the range of 5 indexes\n",
    "    print(\"Computer Dice rolls:\", diceRolls) # Print this out so user cannot say computers always win\n",
    "    userWins = sum(userRoll > roll for roll in diceRolls)\n",
    "    userLosses = sum(userRoll < roll for roll in diceRolls)\n",
    "    if userWins >= 3:\n",
    "        return \"Win\"\n",
    "    elif userLosses >= 3:\n",
    "        return \"Loss\"\n",
    "    else:\n",
    "        return \"Tie\"\n",
    "\n",
    "# Ask the user for how many times they want to play the game\n",
    "numGames = int(input(\"How many times do you want to play the game? \"))\n",
    "\n",
    "# Loop to play the specified number of games\n",
    "for _ in range(numGames):\n",
    "    reRoll = True # Initial giving the user at least 1 time to decide on rerolling or not\n",
    "    rerollUsed = False # Giving the rerollUsed as a gateway so the user wouldn't be able to roll for hours lol!!!\n",
    "\n",
    "    while reRoll:\n",
    "        print(\"You get a total of two chances. We are going to compare your roll with a list of 5 dice rolls. If you roll higher than 3 of them, you win.\")\n",
    "        userRoll = rollDice()\n",
    "        print(\"This is your initial roll:\", userRoll)\n",
    "        userInput = input(\"Do you want to reroll? 1: Yes 2: No \")\n",
    "\n",
    "        if userInput == \"1\" and not rerollUsed:\n",
    "            userRoll = rollDice()\n",
    "            print(\"This is your new roll! =>\", userRoll)\n",
    "            rerollUsed = True\n",
    "\n",
    "        result = compareRoll(userRoll)\n",
    "        if result == \"Win\":\n",
    "            print(\"Congratulations! You win!\")\n",
    "            winCount += 1\n",
    "            gameplay.append((userRoll, \"Win\"))\n",
    "        elif result == \"Loss\":\n",
    "            print(\"Sorry, you lose.\")\n",
    "            lossCount += 1\n",
    "            gameplay.append((userRoll, \"Loss\"))\n",
    "        else:\n",
    "            print(\"It's a tie!\")\n",
    "            tieCount += 1\n",
    "            gameplay.append((userRoll, \"Tie\"))\n",
    "\n",
    "        reRoll = False\n",
    "\n",
    "# Print game statistics\n",
    "print(\"Gameplay history:\", gameplay)\n",
    "print(f\"Wins: {winCount}\")\n",
    "print(f\"Losses: {lossCount}\")\n",
    "print(f\"Ties: {tieCount}\")\n"
   ]
  },
  {
   "cell_type": "markdown",
   "id": "024a25d5-cb96-44be-9e7c-cb852c12f272",
   "metadata": {},
   "source": [
    "## Sample code\n",
    "Below you will find a Chat GPT generated Dice game.\n",
    "\n",
    "Lets talk about it. "
   ]
  },
  {
   "cell_type": "code",
   "execution_count": null,
   "id": "22a730ba-7ed0-4f65-8e31-fdaee97e43a3",
   "metadata": {},
   "outputs": [],
   "source": [
    "import random\n",
    "\n",
    "def roll_dice():\n",
    "    return random.randint(1, 6)\n",
    "\n",
    "def main():\n",
    "    print(\"Welcome to the Dice Rolling Game!\")\n",
    "    print(\"You and the computer will each roll a dice, and the one with the higher number wins.\")\n",
    "\n",
    "    while True:\n",
    "        input(\"Press Enter to roll the dice...\")\n",
    "        \n",
    "        user_roll = roll_dice()\n",
    "        computer_roll = roll_dice()\n",
    "\n",
    "        print(\"You rolled:\", user_roll)\n",
    "        print(\"Computer rolled:\", computer_roll)\n",
    "\n",
    "        if user_roll > computer_roll:\n",
    "            print(\"Congratulations! You win!\")\n",
    "        elif user_roll < computer_roll:\n",
    "            print(\"Sorry, you lost. Better luck next time!\")\n",
    "        else:\n",
    "            print(\"It's a tie!\")\n",
    "\n",
    "        play_again = input(\"Do you want to play again? (yes/no): \").lower()\n",
    "        if play_again != \"yes\":\n",
    "            print(\"Thanks for playing!\")\n",
    "            break"
   ]
  },
  {
   "cell_type": "code",
   "execution_count": null,
   "id": "31e6d976-765c-4a4a-848a-4fedaa2bf83a",
   "metadata": {},
   "outputs": [],
   "source": []
  }
 ],
 "metadata": {
  "kernelspec": {
   "display_name": "Python 3 (ipykernel)",
   "language": "python",
   "name": "python3"
  },
  "language_info": {
   "codemirror_mode": {
    "name": "ipython",
    "version": 3
   },
   "file_extension": ".py",
   "mimetype": "text/x-python",
   "name": "python",
   "nbconvert_exporter": "python",
   "pygments_lexer": "ipython3",
   "version": "3.13.1"
  }
 },
 "nbformat": 4,
 "nbformat_minor": 5
}
