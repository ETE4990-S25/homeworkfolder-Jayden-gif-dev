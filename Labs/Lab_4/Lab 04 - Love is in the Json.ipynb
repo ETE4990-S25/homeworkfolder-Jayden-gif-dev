{
 "cells": [
  {
   "cell_type": "markdown",
   "metadata": {},
   "source": [
    "# Valentine's Day Lab Assignment\n",
    "Picking a Romantic Movie\n",
    "\n",
    "## Instructions:\n",
    "1. Download a dataset of romantic movies from a public dataset repository (e.g., Kaggle).\n",
    "   - Example dataset: \"Romantic Movies Dataset\" (ensure it's in JSON format).\n",
    "2. Load the dataset from the JSON file.\n",
    "3. Create a function that helps pick a romantic movie based on user preferences.\n",
    "4. Display the selected movie details.\n",
    "5. Verify the JSON file content\n",
    "\n"
   ]
  },
  {
   "cell_type": "code",
   "execution_count": null,
   "metadata": {},
   "outputs": [],
   "source": [
    "# Sample Code:\n",
    "min_rating = float(input(\"Enter the minimum rating (0-10): \"))\n",
    "max_year = int(input(\"Enter the latest release year: \"))\n",
    "\n",
    "selected_movie = pick_movie(data, min_rating, max_year)\n",
    "\n",
    "if isinstance(selected_movie, str):\n",
    "    print(selected_movie)\n",
    "else:\n",
    "    print(f\"Selected Movie: {selected_movie['Title']}\")\n",
    "    print(f\"Year: {selected_movie['Year']}\")\n",
    "    print(f\"Rating: {selected_movie['Rating']}\")\n",
    "    print(f\"Box Office: ${selected_movie['BoxOffice']} million\")"
   ]
  },
  {
   "cell_type": "markdown",
   "metadata": {},
   "source": [
    "# Code to pick Movie"
   ]
  },
  {
   "cell_type": "code",
   "execution_count": null,
   "metadata": {},
   "outputs": [],
   "source": [
    "import json\n",
    "import pandas as pd\n",
    "\n",
    "# Load the JSON file\n",
    "file_path = \"Netflix.json\"  # Ensure this file is in the same directory or provide the full path\n",
    "with open(file_path, \"r\", encoding=\"utf-8\") as file:\n",
    "    data = json.load(file)\n",
    "\n",
    "# Convert the JSON data into a pandas DataFrame\n",
    "data_frame = pd.DataFrame(data)\n",
    "\n",
    "#Function to select a romantic movie based on user preferences.\n",
    "def pick_romantic_movie(data, max_year):\n",
    "    # Filter for romantic movies within the given release year\n",
    "    romantic_movies = data[\n",
    "        (data[\"type\"] == \"Movie\") & \n",
    "        (data[\"listed_in\"].str.contains(\"Romantic\", case=False, na=False)) &\n",
    "        (data[\"release_year\"] <= max_year)\n",
    "    ]\n",
    "    # If no movies match the criteria, return a message\n",
    "    if romantic_movies.empty:\n",
    "        return \"No romantic movies found.\"\n",
    "    \n",
    "    # Select the first matching movie\n",
    "    selected_movie = romantic_movies.iloc[0].to_dict()\n",
    "    return selected_movie"
   ]
  }
 ],
 "metadata": {
  "kernelspec": {
   "display_name": "Python 3",
   "language": "python",
   "name": "python3"
  },
  "language_info": {
   "codemirror_mode": {
    "name": "ipython",
    "version": 3
   },
   "file_extension": ".py",
   "mimetype": "text/x-python",
   "name": "python",
   "nbconvert_exporter": "python",
   "pygments_lexer": "ipython3",
   "version": "3.13.2"
  }
 },
 "nbformat": 4,
 "nbformat_minor": 2
}
