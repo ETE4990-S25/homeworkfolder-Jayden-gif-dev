{
 "cells": [
  {
   "cell_type": "markdown",
   "id": "0e76db5c",
   "metadata": {},
   "source": [
    "## Project # 2\n",
    "\n",
    "Create a Multiprocessing, Threaded and Asynchronous application that will calculate the highest prime number in 3 min.\n",
    "\n",
    "You must start a 0\n",
    "\n",
    "After you have created these programs analyze  the performance of each. IE: How long did it take to find prime number? Compare each prime and why each found that prime number. \n",
    "\n",
    "If you wish you can calculate any other non dependent item and them perform analyses.\n",
    "\n",
    "For code consistancy use the following is_prime function.\n",
    "```python\n",
    "def is_prime(n):\n",
    "    if n <= 1:\n",
    "        return False\n",
    "    for i in range(2, int(n ** 0.5) + 1):\n",
    "        if n % i == 0:\n",
    "            return False\n",
    "    return True\n",
    "```\n",
    "    async       13,386,001\n",
    "    threaded(2) 10,747,921\n",
    "    "
   ]
  },
  {
   "cell_type": "code",
   "execution_count": 1,
   "id": "2f6f7366",
   "metadata": {},
   "outputs": [],
   "source": [
    "def getStuff (Lists):\n",
    "    list1 = []\n",
    "    for List in Lists:\n",
    "        if (Lists[0] == 4):\n",
    "            list1.append(List)\n",
    "    return list1\n"
   ]
  },
  {
   "cell_type": "code",
   "execution_count": 2,
   "id": "967a1a3c",
   "metadata": {},
   "outputs": [
    {
     "data": {
      "text/plain": [
       "[]"
      ]
     },
     "execution_count": 2,
     "metadata": {},
     "output_type": "execute_result"
    }
   ],
   "source": [
    "getStuff([1,2,3,4,5])"
   ]
  },
  {
   "cell_type": "code",
   "execution_count": 1,
   "id": "ab9e34fc",
   "metadata": {},
   "outputs": [
    {
     "name": "stdout",
     "output_type": "stream",
     "text": [
      "1\n",
      "1\n",
      "2\n",
      "2\n",
      "3\n",
      "3\n"
     ]
    }
   ],
   "source": [
    "a = 1\n",
    "for i in range(a,4):\n",
    "    print(i)\n",
    "\n",
    "    print(i)"
   ]
  },
  {
   "cell_type": "markdown",
   "id": "e9f6fa88",
   "metadata": {},
   "source": [
    "# Huynh Gia Phong Tat (Jayden)\n"
   ]
  },
  {
   "cell_type": "markdown",
   "id": "9141c9a6",
   "metadata": {},
   "source": [
    "## Project 2"
   ]
  },
  {
   "cell_type": "markdown",
   "id": "23c5c031",
   "metadata": {},
   "source": [
    "### Multiprocessing"
   ]
  },
  {
   "cell_type": "markdown",
   "id": "acf6e113",
   "metadata": {},
   "source": [
    "#### Project 2 Multiprocessing"
   ]
  },
  {
   "cell_type": "code",
   "execution_count": null,
   "id": "7dce228e",
   "metadata": {},
   "outputs": [],
   "source": [
    "import time\n",
    "from multiprocessing import Process, Value, Lock\n",
    "import math\n",
    "import sys\n",
    "\n",
    "# Python 3.11+ won't let you convert huge integers to strings unless you raise the limit.\n",
    "# I ran into this trying to print Fib(1000000), so thanks to Stack Overflow for the fix.\n",
    "sys.set_int_max_str_digits(1000000)\n",
    "\n",
    "# Basic prime checker using trial division.\n",
    "# It's not fast for huge numbers, but it works — and I needed something reliable.\n",
    "def _is_prime(n):\n",
    "    if n <= 1:\n",
    "        return False\n",
    "    for i in range(2, int(n ** 0.5) + 1):\n",
    "        if n % i == 0:\n",
    "            return False\n",
    "    return True\n",
    "\n",
    "# Each process runs this function to search for primes.\n",
    "# I split the search space across multiple processes using different start points and steps.\n",
    "# If a larger prime is found, I update the shared variable with a lock to avoid conflicts.\n",
    "def search_primes(start, step, largest_prime, lock, end_time):\n",
    "    n = start\n",
    "    while time.time() < end_time:\n",
    "        if _is_prime(n):\n",
    "            with lock:\n",
    "                if n > largest_prime.value:\n",
    "                    largest_prime.value = n\n",
    "        n += step\n",
    "\n",
    "# Iterative Fibonacci function.\n",
    "# I capped it because trying to compute something like Fib(50000000) made my machine beg for mercy.\n",
    "def compute_fibonacci(n):\n",
    "    MAX_FIB = 1000000\n",
    "    if n > MAX_FIB:\n",
    "        print(f\"[Fibonacci] Prime too large, capping n from {n} to {MAX_FIB}\")\n",
    "        n = MAX_FIB\n",
    "\n",
    "    print(f\"[Fibonacci] Calculating Fib({n})...\")\n",
    "    a, b = 0, 1\n",
    "    for i in range(n):\n",
    "        a, b = b, a + b\n",
    "        if i % 200000 == 0:\n",
    "            print(f\"  Reached Fib({i})\")\n",
    "    print(f\"[Fibonacci] Done. Fib({n}) has {len(str(a))} digits.\")\n",
    "\n",
    "# Factorial computation.\n",
    "# I initially didn’t expect how massive factorials get — thank you Stack Overflow again.\n",
    "def compute_factorial(n):\n",
    "    MAX_FACT = 100000\n",
    "    if n > MAX_FACT:\n",
    "        print(f\"[Factorial] Prime too large, capping n from {n} to {MAX_FACT}\")\n",
    "        n = MAX_FACT\n",
    "\n",
    "    print(f\"[Factorial] Calculating {n}!...\")\n",
    "    result = math.factorial(n)\n",
    "    print(f\"[Factorial] Done. {n}! has {len(str(result))} digits.\")\n",
    "\n",
    "# Main function to control the flow.\n",
    "# I used multiple processes to search for primes in parallel over 3 minutes.\n",
    "# Once a prime is found, I run Fibonacci and factorial calculations at the same time.\n",
    "def main():\n",
    "    NUM_PROCESSES = 7\n",
    "    SEARCH_DURATION = 3 * 60  # 3 minutes\n",
    "\n",
    "    largest_prime = Value('i', 0)\n",
    "    lock = Lock()\n",
    "    end_time = time.time() + SEARCH_DURATION\n",
    "\n",
    "    processes = []\n",
    "    for i in range(NUM_PROCESSES):\n",
    "        p = Process(target=search_primes, args=(i, NUM_PROCESSES, largest_prime, lock, end_time))\n",
    "        processes.append(p)\n",
    "        p.start()\n",
    "\n",
    "    for p in processes:\n",
    "        p.join()\n",
    "\n",
    "    prime_found = largest_prime.value\n",
    "    print(f\"\\nLargest prime found in 3 minutes: {prime_found}\\n\")\n",
    "\n",
    "    # Run the two heavy computations in parallel (learned this trick from multiprocessing docs and forums)\n",
    "    fib_proc = Process(target=compute_fibonacci, args=(prime_found,))\n",
    "    fact_proc = Process(target=compute_factorial, args=(prime_found,))\n",
    "\n",
    "    fib_proc.start()\n",
    "    fact_proc.start()\n",
    "\n",
    "    fib_proc.join()\n",
    "    fact_proc.join()\n",
    "\n",
    "    print(\"\\nAll tasks completed.\")\n",
    "\n",
    "if __name__ == \"__main__\":\n",
    "    start = time.time()\n",
    "    main()\n",
    "    print(f\"\\nTotal runtime: {time.time() - start:.2f} seconds\")\n"
   ]
  },
  {
   "cell_type": "markdown",
   "metadata": {},
   "source": [
    "Largest prime found in 3 minutes: 60006767\n",
    "<br>\n",
    "[Factorial] Prime too large, capping n from 60006767 to 100000\n",
    "<br>\n",
    "[Factorial] Calculating 100000!...\n",
    "<br>\n",
    "[Fibonacci] Prime too large, capping n from 60006767 to 1000000\n",
    "<br>\n",
    "[Fibonacci] Calculating Fib(1000000)...\n",
    "<br>\n",
    "  Reached Fib(0)\n",
    "  <br>\n",
    "  Reached Fib(200000)\n",
    "  <br>\n",
    "[Factorial] Done. 100000! has 456574 digits.\n",
    "<br>\n",
    "  Reached Fib(400000)\n",
    "  <br>\n",
    "  Reached Fib(600000)\n",
    "  <br>\n",
    "  Reached Fib(800000)\n",
    "<br>\n",
    "[Fibonacci] Done. Fib(1000000) has 208988 digits.\n",
    "<br>\n",
    "All tasks completed.\n",
    "<br>\n",
    "Total runtime: 186.13 seconds"
   ]
  },
  {
   "cell_type": "markdown",
   "id": "a04d5878",
   "metadata": {},
   "source": [
    "### Threading"
   ]
  },
  {
   "cell_type": "markdown",
   "id": "792be1c7",
   "metadata": {},
   "source": [
    "#### Project 2 Threading"
   ]
  },
  {
   "cell_type": "code",
   "execution_count": null,
   "id": "789cf529",
   "metadata": {},
   "outputs": [],
   "source": []
  },
  {
   "cell_type": "markdown",
   "id": "3e94728d",
   "metadata": {},
   "source": [
    "### Asychronous"
   ]
  },
  {
   "cell_type": "markdown",
   "id": "5d76e740",
   "metadata": {},
   "source": [
    "#### Project 2 Asynchronous"
   ]
  }
 ],
 "metadata": {
  "kernelspec": {
   "display_name": "Python 3",
   "language": "python",
   "name": "python3"
  },
  "language_info": {
   "codemirror_mode": {
    "name": "ipython",
    "version": 3
   },
   "file_extension": ".py",
   "mimetype": "text/x-python",
   "name": "python",
   "nbconvert_exporter": "python",
   "pygments_lexer": "ipython3",
   "version": "3.13.2"
  }
 },
 "nbformat": 4,
 "nbformat_minor": 5
}
