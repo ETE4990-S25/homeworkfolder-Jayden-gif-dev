{
 "cells": [
  {
   "cell_type": "markdown",
   "metadata": {},
   "source": [
    "Huynh Gia Phong Tat\n",
    "March 11, 2025"
   ]
  },
  {
   "cell_type": "markdown",
   "metadata": {},
   "source": [
    "## Objective:\n",
    "The objective of this assignment is to practice using Functional Programing.\n",
    "\n",
    "## Instructions:\n",
    "\n",
    "Using everything we learned to day about Functional Programing, lambda and itters create one of each of the following:\n",
    "-  Basic Lambda Function\n",
    "    - Create a lambda function that takes one arguments and returns even or odd.\n",
    "- Advanced lambda Function\n",
    "    - Create a lambda function that takes a list and returns their sum \n",
    "- Sorting with Lambda\n",
    "- Filtering with Lambda - `filter()` \n",
    "- Mapping with Lambda - `map()`\n",
    "- Reducing with Lambda -  `reduce()` \n",
    "- Enumerate with or without Lambda - `enumerate()`\n",
    "- zip with or without lambda (may combine enumerate like in class) - `zip()`\n",
    "\n",
    "Submit the file as a .py \n",
    "\n",
    "\n"
   ]
  },
  {
   "cell_type": "markdown",
   "metadata": {},
   "source": [
    "### Basic Lambda Function even odd"
   ]
  },
  {
   "cell_type": "code",
   "execution_count": 1,
   "metadata": {},
   "outputs": [
    {
     "name": "stdout",
     "output_type": "stream",
     "text": [
      "7 is Odd\n",
      "10 is Even\n"
     ]
    }
   ],
   "source": [
    "\n",
    "is_even = lambda x: \"Even\" if x % 2 == 0 else \"Odd\"\n",
    "\n",
    "print(\"7 is\", is_even(7))\n",
    "print(\"10 is\", is_even(10))\n"
   ]
  },
  {
   "cell_type": "markdown",
   "metadata": {},
   "source": [
    "### Sum of a list"
   ]
  },
  {
   "cell_type": "code",
   "execution_count": 2,
   "metadata": {},
   "outputs": [
    {
     "name": "stdout",
     "output_type": "stream",
     "text": [
      "Total gold coins: 80\n"
     ]
    }
   ],
   "source": [
    "# A rogue is counting the gold coins in her loot bag\n",
    "sum_loot = lambda coins: sum(coins)\n",
    "\n",
    "# Here's what she found\n",
    "loot_bag = [15, 30, 25, 10]\n",
    "\n",
    "# Total value\n",
    "print(\"Total gold coins:\", sum_loot(loot_bag))\n"
   ]
  },
  {
   "cell_type": "markdown",
   "metadata": {},
   "source": [
    "### Sorting with Lambda"
   ]
  },
  {
   "cell_type": "code",
   "execution_count": 3,
   "metadata": {},
   "outputs": [
    {
     "name": "stdout",
     "output_type": "stream",
     "text": [
      "Tournament Leaderboard:\n",
      "1. Luna - 95 points\n",
      "2. Zara - 88 points\n",
      "3. Kai - 72 points\n",
      "4. Rex - 60 points\n"
     ]
    }
   ],
   "source": [
    "# Heroes competing in a tournament\n",
    "players = [(\"Zara\", 88), (\"Kai\", 72), (\"Luna\", 95), (\"Rex\", 60)]\n",
    "\n",
    "# Sort the leaderboard by score\n",
    "rankings = sorted(players, key=lambda x: x[1], reverse=True)\n",
    "\n",
    "print(\"Tournament Leaderboard:\")\n",
    "for i, (name, score) in enumerate(rankings, start=1):\n",
    "    print(f\"{i}. {name} - {score} points\")\n"
   ]
  },
  {
   "cell_type": "markdown",
   "metadata": {},
   "source": [
    "### Filtering with Lambda"
   ]
  },
  {
   "cell_type": "code",
   "execution_count": 4,
   "metadata": {},
   "outputs": [
    {
     "name": "stdout",
     "output_type": "stream",
     "text": [
      "Allowed into the Castle of Evens: [24, 42, 60]\n"
     ]
    }
   ],
   "source": [
    "# Only even numbers are allowed to enter the castle\n",
    "numbers = [13, 24, 31, 42, 55, 60, 77]\n",
    "\n",
    "gatekeeper = lambda x: x % 2 == 0\n",
    "allowed_in = list(filter(gatekeeper, numbers))\n",
    "\n",
    "print(\"Allowed into the Castle of Evens:\", allowed_in)\n"
   ]
  },
  {
   "cell_type": "markdown",
   "metadata": {},
   "source": [
    "### Mapping with Lambda"
   ]
  },
  {
   "cell_type": "code",
   "execution_count": 5,
   "metadata": {},
   "outputs": [
    {
     "name": "stdout",
     "output_type": "stream",
     "text": [
      "Enhanced Ingredient Strengths: [6, 10, 14, 18]\n"
     ]
    }
   ],
   "source": [
    "# A wizard is doubling the power of each ingredient\n",
    "ingredients = [3, 5, 7, 9]\n",
    "\n",
    "double_strength = list(map(lambda x: x * 2, ingredients))\n",
    "\n",
    "print(\"Enhanced Ingredient Strengths:\", double_strength)\n"
   ]
  },
  {
   "cell_type": "markdown",
   "metadata": {},
   "source": [
    "### Reducing Lambda"
   ]
  },
  {
   "cell_type": "code",
   "execution_count": 6,
   "metadata": {},
   "outputs": [
    {
     "name": "stdout",
     "output_type": "stream",
     "text": [
      "Total Gauntlet Power: 210\n"
     ]
    }
   ],
   "source": [
    "from functools import reduce\n",
    "\n",
    "# Each stone gives a certain power level\n",
    "infinity_stones = [2, 3, 5, 7]\n",
    "\n",
    "# Combine them all for ultimate power\n",
    "total_power = reduce(lambda x, y: x * y, infinity_stones)\n",
    "\n",
    "print(\"Total Gauntlet Power:\", total_power)\n"
   ]
  },
  {
   "cell_type": "markdown",
   "metadata": {},
   "source": [
    "### Enumerate"
   ]
  },
  {
   "cell_type": "code",
   "execution_count": 7,
   "metadata": {},
   "outputs": [
    {
     "name": "stdout",
     "output_type": "stream",
     "text": [
      "Inventory List:\n",
      "Slot 1: Iron Sword\n",
      "Slot 2: Steel Shield\n",
      "Slot 3: Health Potion\n"
     ]
    }
   ],
   "source": [
    "# A blacksmith is going through their items\n",
    "inventory = ['Iron Sword', 'Steel Shield', 'Health Potion']\n",
    "\n",
    "print(\"Inventory List:\")\n",
    "for slot, item in enumerate(inventory, start=1):\n",
    "    print(f\"Slot {slot}: {item}\")\n"
   ]
  },
  {
   "cell_type": "markdown",
   "metadata": {},
   "source": [
    "### Zip()"
   ]
  },
  {
   "cell_type": "code",
   "execution_count": 8,
   "metadata": {},
   "outputs": [
    {
     "name": "stdout",
     "output_type": "stream",
     "text": [
      "Quest Assignments:\n",
      "Aria → Rescue the Villagers\n",
      "Bjorn → Defend the Gate\n",
      "Cleo → Explore the Caverns\n"
     ]
    }
   ],
   "source": [
    "heroes = ['Aria', 'Bjorn', 'Cleo']\n",
    "missions = ['Rescue the Villagers', 'Defend the Gate', 'Explore the Caverns']\n",
    "\n",
    "quest_assignments = list(zip(heroes, missions))\n",
    "\n",
    "print(\"Quest Assignments:\")\n",
    "for hero, mission in quest_assignments:\n",
    "    print(f\"{hero} → {mission}\")\n"
   ]
  }
 ],
 "metadata": {
  "kernelspec": {
   "display_name": "Python 3",
   "language": "python",
   "name": "python3"
  },
  "language_info": {
   "codemirror_mode": {
    "name": "ipython",
    "version": 3
   },
   "file_extension": ".py",
   "mimetype": "text/x-python",
   "name": "python",
   "nbconvert_exporter": "python",
   "pygments_lexer": "ipython3",
   "version": "3.13.2"
  }
 },
 "nbformat": 4,
 "nbformat_minor": 2
}
