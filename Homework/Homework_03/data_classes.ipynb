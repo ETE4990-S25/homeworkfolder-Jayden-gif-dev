{
 "cells": [
  {
   "cell_type": "code",
   "execution_count": null,
   "metadata": {},
   "outputs": [
    {
     "name": "stdout",
     "output_type": "stream",
     "text": [
      "Error saving file: [Errno 2] No such file or directory: 'c:\\\\Games\\\\Github ETE 4990\\\\homeworkfolder-Jayden-gif-dev-1\\\\Homework\\\\Homework_03\\\\Homework/Homework_03\\\\students.json'\n",
      "File not found.\n"
     ]
    }
   ],
   "source": [
    "import json\n",
    "import os\n",
    "from data_classes import Person, Student, saveToJson, displayJson\n",
    "\n",
    "students = [\n",
    "    Student(\"Bill\", 12, \"bill@cool.com\", 1234),\n",
    "    Student(\"Sarah\", 22, \"sarah@example.com\", 5678),\n",
    "    Student(\"Mike\", 20, \"mike@example.com\", 9101)\n",
    "]\n",
    "\n",
    "people = [\n",
    "    Person(\"Anna\", 25, \"anna@example.com\"),\n",
    "    Person(\"John\", 30, \"john@example.com\"),\n",
    "    Person(\"Emma\", 27, \"emma@example.com\")\n",
    "]\n",
    "\n",
    "fileName = \"students.json\"\n",
    "filePath = os.path.join(os.getcwd(), fileName)\n",
    "\n",
    "saveToJson(filePath, students)\n",
    "displayJson(filePath)\n"
   ]
  }
 ],
 "metadata": {
  "kernelspec": {
   "display_name": "Python 3",
   "language": "python",
   "name": "python3"
  },
  "language_info": {
   "codemirror_mode": {
    "name": "ipython",
    "version": 3
   },
   "file_extension": ".py",
   "mimetype": "text/x-python",
   "name": "python",
   "nbconvert_exporter": "python",
   "pygments_lexer": "ipython3",
   "version": "3.13.2"
  }
 },
 "nbformat": 4,
 "nbformat_minor": 2
}
