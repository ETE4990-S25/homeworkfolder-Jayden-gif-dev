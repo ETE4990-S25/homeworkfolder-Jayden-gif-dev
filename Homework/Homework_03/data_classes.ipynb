{
 "cells": [
  {
   "cell_type": "markdown",
   "metadata": {},
   "source": [
    "# Lab Report: Homework 3 Classes in Python\n",
    "### Introduction\n",
    "In this lab, I've explored the cocnept of classes in python. Also a tiny-portion of json file for storing and retrieving data, allowing structured handling of information.\n",
    "---\n",
    "### Objective\n",
    "- Understand how to define and use classes in Python.\n",
    "- Implement inheritance (parent,child classes).\n",
    "- Ultilzie Json file for storing and retrieval.\n",
    "- Work with file operations.\n",
    "---\n",
    "## How this work (Code Explain)\n",
    "\n",
    "### Importing dependencies\n",
    "```python\n",
    "import json\n",
    "import os\n",
    "from data_classes import Person, Student, saveToJson, displayJson\n",
    "```\n",
    "This imports all the necessary libraries that needed. This also import the py script which contains the `Person` `Student`, and both the function from the script.\n",
    "\n",
    "### Creating the instances of `Student` and `Person`\n",
    "```python\n",
    "students = [\n",
    "    Student(\"Bill\", 12, \"bill@cool.com\", 1234),\n",
    "    Student(\"Sarah\", 22, \"sarah@example.com\", 5678),\n",
    "    Student(\"Mike\", 20, \"mike@example.com\", 9101)\n",
    "]\n",
    "\n",
    "people = [\n",
    "    Person(\"Anna\", 25, \"anna@example.com\"),\n",
    "    Person(\"John\", 30, \"john@example.com\"),\n",
    "    Person(\"Emma\", 27, \"emma@example.com\")\n",
    "]\n",
    "```\n",
    "The script creates multiple `Student` and `Person` instances that manually assigned attributes.\n",
    "Notice how only students have the integer which translate into studentID.\n",
    "\n",
    "### Defining the Json File Name and Path\n",
    "```python\n",
    "fileName = \"students.json\"\n",
    "filePath = os.path.join(os.getcwd(), fileName)\n",
    "```\n",
    "The file is named `students.json` and stored in the current working directory. I used this since it kept looking for the folder from the pyscript which cause some bugs.\n",
    "\n",
    "### Saving and Displaying Data\n",
    "```python\n",
    "saveToJson(filePath, students)\n",
    "displayJson(filePath)\n",
    "```\n",
    "Since inside filePath we already declare fileName so we passed it into there instead.\n",
    "- `saveToJson`(fileName, students): Converts student objects into JSON format and writes them to the file.\n",
    "- `displayJson`(fileName): Reads the JSON file and prints its contents.\n",
    "\n",
    "## Results\n",
    "When I excecute the below code, the `student.json` file is generated with structured student data taken from the script. The script handle formatting and storage.\n",
    "\n"
   ]
  },
  {
   "cell_type": "markdown",
   "metadata": {},
   "source": [
    "# Code"
   ]
  },
  {
   "cell_type": "code",
   "execution_count": 26,
   "metadata": {},
   "outputs": [
    {
     "name": "stdout",
     "output_type": "stream",
     "text": [
      "File saved at: c:\\Games\\Github ETE 4990\\homeworkfolder-Jayden-gif-dev-1\\Homework\\Homework_03\\students.json\n",
      "[\n",
      "    {\n",
      "        \"Name\": \"Bill\",\n",
      "        \"Age\": 12,\n",
      "        \"Email\": \"bill@cool.com\",\n",
      "        \"StudentId\": 1234\n",
      "    },\n",
      "    {\n",
      "        \"Name\": \"Sarah\",\n",
      "        \"Age\": 22,\n",
      "        \"Email\": \"sarah@example.com\",\n",
      "        \"StudentId\": 5678\n",
      "    },\n",
      "    {\n",
      "        \"Name\": \"Mike\",\n",
      "        \"Age\": 20,\n",
      "        \"Email\": \"mike@example.com\",\n",
      "        \"StudentId\": 9101\n",
      "    }\n",
      "]\n"
     ]
    }
   ],
   "source": [
    "import json\n",
    "import os\n",
    "from data_classes import Person, Student, saveToJson, displayJson\n",
    "\n",
    "students = [\n",
    "    Student(\"Bill\", 12, \"bill@cool.com\", 1234),\n",
    "    Student(\"Sarah\", 22, \"sarah@example.com\", 5678),\n",
    "    Student(\"Mike\", 20, \"mike@example.com\", 9101)\n",
    "]\n",
    "\n",
    "people = [\n",
    "    Person(\"Anna\", 25, \"anna@example.com\"),\n",
    "    Person(\"John\", 30, \"john@example.com\"),\n",
    "    Person(\"Emma\", 27, \"emma@example.com\")\n",
    "]\n",
    "\n",
    "fileName = \"students.json\"\n",
    "filePath = os.path.join(os.getcwd(), fileName)\n",
    "\n",
    "saveToJson(filePath, students)\n",
    "displayJson(filePath)\n"
   ]
  }
 ],
 "metadata": {
  "kernelspec": {
   "display_name": "Python 3",
   "language": "python",
   "name": "python3"
  },
  "language_info": {
   "codemirror_mode": {
    "name": "ipython",
    "version": 3
   },
   "file_extension": ".py",
   "mimetype": "text/x-python",
   "name": "python",
   "nbconvert_exporter": "python",
   "pygments_lexer": "ipython3",
   "version": "3.13.2"
  }
 },
 "nbformat": 4,
 "nbformat_minor": 2
}
